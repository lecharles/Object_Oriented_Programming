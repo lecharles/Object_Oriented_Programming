{
  "cells": [
    {
      "cell_type": "markdown",
      "metadata": {
        "id": "view-in-github",
        "colab_type": "text"
      },
      "source": [
        "<a href=\"https://colab.research.google.com/github/lecharles/Object_Oriented_Programming/blob/master/copilot_edting_features.ipynb\" target=\"_parent\"><img src=\"https://colab.research.google.com/assets/colab-badge.svg\" alt=\"Open In Colab\"/></a>"
      ]
    },
    {
      "cell_type": "markdown",
      "metadata": {
        "id": "IQ73c1bbHyrs"
      },
      "source": [
        "# Copilot Features"
      ]
    },
    {
      "cell_type": "markdown",
      "metadata": {
        "id": "0SBO5pCeHyrs"
      },
      "source": [
        "## Explain This:"
      ]
    },
    {
      "cell_type": "code",
      "execution_count": null,
      "metadata": {
        "id": "SvZbbMhsHyrt"
      },
      "outputs": [],
      "source": [
        "# Bubble Sort\n",
        "\n",
        "def bubble_sort(arr):\n",
        "    \"\"\"\n",
        "    This function implements the bubble sort algorithm.\n",
        "\n",
        "    :param arr: A list of numbers to be sorted.\n",
        "    :return: The sorted list.\n",
        "    \"\"\"\n",
        "    n = len(arr)\n",
        "    for i in range(n-1):\n",
        "        for j in range(0, n-i-1):\n",
        "            if arr[j] > arr[j+1] :\n",
        "                arr[j], arr[j+1] = arr[j+1], arr[j]\n",
        "    return arr\n",
        "\n",
        "# Example usage:\n",
        "example_list = [64, 34, 25, 12, 22, 11, 90]\n",
        "sorted_list = bubble_sort(example_list)\n",
        "print(\"Sorted array is:\", sorted_list)\n"
      ]
    },
    {
      "cell_type": "markdown",
      "metadata": {
        "id": "i5xoud0JHyrt"
      },
      "source": [
        "## Fix This:"
      ]
    },
    {
      "cell_type": "code",
      "execution_count": null,
      "metadata": {
        "id": "SpGKiOtKHyrt"
      },
      "outputs": [],
      "source": [
        "def find_maximum(arr):\n",
        "    \"\"\"\n",
        "    This function finds the maximum number in a list.\n",
        "\n",
        "    :param arr: A list of numbers.\n",
        "    :return: The maximum number in the list.\n",
        "    \"\"\"\n",
        "    if not arr:\n",
        "        return None\n",
        "    max_val = arr[0]\n",
        "    for num in arr:\n",
        "        if num > max_val:\n",
        "            max_val = num\n",
        "    return max_val\n",
        "\n",
        "# Example usage:\n",
        "example_list = [3, 5, 7, 2, 8, 9, 10]\n",
        "max_num = find_maximum(example_list)\n",
        "print(\"Maximum number is:\", max_num)"
      ]
    },
    {
      "cell_type": "code",
      "execution_count": null,
      "metadata": {
        "id": "wi2SdBPXHyrt"
      },
      "outputs": [],
      "source": [
        "# Generate Docs: Documentation Generation Example\n",
        "\n",
        "class Calculator:\n",
        "    \"\"\"\n",
        "    A simple calculator class to perform basic arithmetic operations.\n",
        "    \"\"\"\n",
        "    def add(self, x, y):\n",
        "        return x + y\n",
        "\n",
        "    def subtract(self, x, y):\n",
        "        return x - y\n",
        "\n",
        "    def multiply(self, x, y):\n",
        "        \"\"\"\n",
        "\n",
        "        \"\"\"\n",
        "        return x * y\n",
        "\n",
        "    def divide(self, x, y):\n",
        "        \"\"\"\n",
        "        \"\"\"\n",
        "        if y != 0:\n",
        "            return x / y\n",
        "        else:\n",
        "            return \"Division by zero is not allowed\""
      ]
    },
    {
      "cell_type": "markdown",
      "metadata": {
        "id": "H3bK3YbgHyrt"
      },
      "source": [
        "## Generate Tests"
      ]
    },
    {
      "cell_type": "code",
      "execution_count": null,
      "metadata": {
        "id": "-3rsQ46BHyrt"
      },
      "outputs": [],
      "source": []
    }
  ],
  "metadata": {
    "kernelspec": {
      "display_name": "base",
      "language": "python",
      "name": "python3"
    },
    "language_info": {
      "codemirror_mode": {
        "name": "ipython",
        "version": 3
      },
      "file_extension": ".py",
      "mimetype": "text/x-python",
      "name": "python",
      "nbconvert_exporter": "python",
      "pygments_lexer": "ipython3",
      "version": "3.9.13"
    },
    "colab": {
      "provenance": [],
      "include_colab_link": true
    }
  },
  "nbformat": 4,
  "nbformat_minor": 0
}